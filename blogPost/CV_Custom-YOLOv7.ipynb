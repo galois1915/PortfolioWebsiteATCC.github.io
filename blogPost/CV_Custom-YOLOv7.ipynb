{
 "cells": [
  {
   "cell_type": "code",
   "execution_count": null,
   "metadata": {},
   "outputs": [],
   "source": []
  },
  {
   "cell_type": "markdown",
   "metadata": {},
   "source": [
    "In the ever-evolving landscape of computer vision, YOLOv7 stands out as a robust and versatile object detection framework. YOLO, which stands for “You Only Look Once,” has been a game-changer in the field, and YOLOv7 customization takes its capabilities to new heights.\n",
    "\n",
    "Customization of YOLOv7 allows developers and researchers to adapt the framework to specific needs and challenges, unlocking a range of possibilities to improve object detection in various applications. This blog will delve into the complexities of custom YOLOv7, exploring how it allows users to go beyond standard capabilities and address unique requirements in the world of computer vision.\n",
    "\n",
    "Data configuration for training.\n",
    "In the data structure, three files are required for training, testing, and validation. Additionally, the .yaml file contains the path to the data sets and the number (along with the names) of new classes.\n",
    "\n",
    "Additionally, you must download the YOLOv7 repository from GitHub. The main directories at this time are \"cfg\" and \"runs\". The first contains the structures of the models in YOLOv7, while the second contains the .py files to train the model and test images or videos using the model.\n",
    "\n",
    "|-------data\n",
    "|            |------- Train: images,labes\n",
    "|            |-------Test: images, labes\n",
    "|            |-------Val: images, labes\n",
    "|            |------data.yaml\n",
    "|\n",
    "|-------yolov7\n",
    "|            |------...\n",
    "|            |------cfg\n",
    "|            |           |-----...\n",
    "|            |           |-----training\n",
    "|            |                        |------...\n",
    "|            |                        |------yolov7-tiny.pt\n",
    "|            |------...\n",
    "|            |\n",
    "|            |-----runs\n",
    "|                        |------detect\n",
    "|                        |------runs\n",
    "\n",
    "Command to train YOLO\n",
    "There are many parameters in training; some of them include the data path and the model weights path (downloaded earlier). In this case, I downloaded the weights for the tiny model from YOLO.\n",
    "\n",
    "!python train.py --batch-size 10 --data \"../data/data.yaml\" --img 1080 1920 --weight \"./yolov7-tiny.pt\" --name yolov7-custom --epoch 10\n",
    "\n",
    "!python train.py - freeze 29 - batch-size 10 - data \"../data/data.yaml\" - img 1080 1920 \n",
    "-- weight \"./yolov7-tiny.pt\" - name yolov7-custom-freeze - epoch 10"
   ]
  }
 ],
 "metadata": {
  "language_info": {
   "name": "python"
  }
 },
 "nbformat": 4,
 "nbformat_minor": 2
}
