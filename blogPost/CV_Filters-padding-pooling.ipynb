{
 "cells": [
  {
   "cell_type": "code",
   "execution_count": null,
   "metadata": {},
   "outputs": [],
   "source": []
  },
  {
   "cell_type": "markdown",
   "metadata": {},
   "source": [
    "Computer vision is different from generic classification, because when we try to find a certain object in the image, we scan the image for some specific patterns and their combinations. For example, when we search for a cat, we can first look for horizontal lines, which can form whiskers, and then a certain combination of whiskers can tell us that it is actually an image of a cat. The position and presence of certain patterns are important.\n",
    "Key concepts in CNN for computer vision:\n",
    "Filters\n",
    "Convolutional filters are small windows that go through each pixel of the image and calculate the weighted average of the neighboring pixels. Example\n",
    "-1 and 0 and 1\n",
    "-1 and 0 and 1\n",
    "-1 and 0 and 1\n",
    "When this filter passes over a relatively uniform field of pixels, all values add up to 0. When it encounters a vertical edge in the image, a high value is generated.\n",
    "In classical computer vision, multiple filters were applied to the image to generate features, which were then used by a machine learning algorithm to build a classifier. In deep learning we build networks that learn the best convolutional filters to solve the classification problem on their own.\n",
    "\n",
    "Note: If you have an input with 3 channels and you apply 16 filters, each filter consists of three arrays (one for each channel), the result after applying each filter is summed across the channels to produce one channel in the feature map. After applying all 16 filters, you will get a feature map that has 16 channels.\n",
    "Padding \n",
    "The purpose of padding is to ensure that the spatial dimensions of the input data are preserved after applying convolutional operations. This is particularly important when building deep neural networks, as multiple convolutional layers can otherwise cause spatial dimensions to shrink rapidly.\n",
    "Pooling layers\n",
    "Once we have detected that there is a horizontal stroke within a 3x3 sliding window, it no longer matters at what exact pixel it occurred. Therefore, we can \"reduce\" the size of the image, which is done using one of the pooling layers: \n",
    "Average pooling takes a sliding window (e.g. 2x2 pixels) and averages the values within the window. \n",
    "Max Pooling replaces the window with the maximum value. The idea behind max pooling is to detect the presence of a given pattern within the sliding window."
   ]
  }
 ],
 "metadata": {
  "language_info": {
   "name": "python"
  }
 },
 "nbformat": 4,
 "nbformat_minor": 2
}
